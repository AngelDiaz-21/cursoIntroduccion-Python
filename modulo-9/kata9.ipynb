{
 "cells": [
  {
   "cell_type": "markdown",
   "metadata": {},
   "source": [
    "# Modulo 9 - Katas\n",
    "\n",
    "## Ejercicio: Uso de funciones en Python\n",
    "\n",
    "### Ejercicio 1: Trabajar con argumentos en funciones\n",
    "\n",
    "Los argumentos requeridos en las funciones se utilizan cuando las funciones necesitan que esos argumentos funcionen correctamente. En este ejercicio, construirás un informe de combustible que requiere información de varias ubicaciones de combustible en todo el cohete.\n",
    "\n",
    "Comienza por crear una función que necesite tres lecturas de combustible y devuelva un informe:\n",
    "\n",
    "**Función para leer 3 tanques de combustible y muestre el promedio**"
   ]
  },
  {
   "cell_type": "code",
   "execution_count": 11,
   "metadata": {},
   "outputs": [],
   "source": [
    "def informe_Combustible (*args):\n",
    "    total_Combustible = (sum(args) / 3)\n",
    "    return f'Promedio de combustible es {total_Combustible}'\n",
    "\n",
    "    "
   ]
  },
  {
   "cell_type": "markdown",
   "metadata": {},
   "source": [
    "Ahora que hemos definido la función de informes, vamos a comprobarlo. Para esta misión, los tanques no están llenos:  \n",
    "**Llamamos a la función que genera el reporte print(funcion(tanque1, tanque2, tanque3))**\n"
   ]
  },
  {
   "cell_type": "code",
   "execution_count": 12,
   "metadata": {},
   "outputs": [
    {
     "name": "stdout",
     "output_type": "stream",
     "text": [
      "Promedio de combustible es 78.33333333333333\n"
     ]
    }
   ],
   "source": [
    "print(informe_Combustible(80, 70, 85))"
   ]
  },
  {
   "cell_type": "markdown",
   "metadata": {},
   "source": [
    "En lugar de simplemente crear el informe, la función también está calculando el promedio. Mejora la legibilidad extrayendo el cálculo promedio de la función en una nueva función para que el promedio se pueda hacer de forma independiente:\n",
    "\n",
    "**Función promedio**"
   ]
  },
  {
   "cell_type": "code",
   "execution_count": 14,
   "metadata": {},
   "outputs": [
    {
     "data": {
      "text/plain": [
       "68.33333333333333"
      ]
     },
     "execution_count": 14,
     "metadata": {},
     "output_type": "execute_result"
    }
   ],
   "source": [
    "def promedio (values):\n",
    "    total = sum(values)\n",
    "    num_items = len(values)\n",
    "    return total / num_items\n",
    "\n",
    "promedio ([70, 60, 75])"
   ]
  },
  {
   "cell_type": "markdown",
   "metadata": {},
   "source": [
    "Ahora actualiza la función de informes para llamando a la nueva función del promedio:  \n",
    "**Actualiza la función**"
   ]
  },
  {
   "cell_type": "code",
   "execution_count": 16,
   "metadata": {},
   "outputs": [
    {
     "name": "stdout",
     "output_type": "stream",
     "text": [
      " Reporte:\n",
      "    Promedio total: 68.33333333333333%\n",
      "    Tanque principal: 70%\n",
      "    Tanque exterior: 60%\n",
      "    Tanque de hidrogeno: 75%\n",
      "    \n"
     ]
    }
   ],
   "source": [
    "def informe_Combustible (principal_tanque, exterior_tanque, hidrogeno_tanque):\n",
    "    return f\"\"\" Reporte:\n",
    "    Promedio total: {promedio([principal_tanque, exterior_tanque, hidrogeno_tanque])}%\n",
    "    Tanque principal: {principal_tanque}%\n",
    "    Tanque exterior: {exterior_tanque}%\n",
    "    Tanque de hidrogeno: {hidrogeno_tanque}%\n",
    "    \"\"\"\n",
    "\n",
    "print(informe_Combustible(70, 60, 75))"
   ]
  },
  {
   "cell_type": "markdown",
   "metadata": {},
   "source": [
    "### Ejercicio 2: Trabajo con argumentos de palabra clave\n",
    "\n",
    "#### Ejercicio : Trabajar con argumentos de palabras clave en funciones\n",
    "\n",
    "En este ejercicio, construirás un informe de cohete que requiere varias piezas de información, como el tiempo hasta el destino, el combustible a la izquierda y el nombre del destino. Comienza por crear una función que creará un informe preciso de la misión:\n",
    "\n",
    "**Función con un informe preciso de la misión. Considera hora de prelanzamiento, tiempo de vuelo, destino, tanque externo y tanque interno**"
   ]
  },
  {
   "cell_type": "code",
   "execution_count": 19,
   "metadata": {},
   "outputs": [
    {
     "name": "stdout",
     "output_type": "stream",
     "text": [
      " Informe :\n",
      "    Tiempo hasta el destino: 67\n",
      "    Combustible a la izquierda: 48000\n",
      "    Nombre del destino: Moon\n",
      "    \n"
     ]
    }
   ],
   "source": [
    "def informe_mision (hora_prelanzamiento, tiempo_vuelo, destino, tanque_externo, tanque_interno):\n",
    "    return f\"\"\" Informe :\n",
    "    Tiempo hasta el destino: {hora_prelanzamiento + tiempo_vuelo}\n",
    "    Combustible a la izquierda: {tanque_externo + tanque_interno}\n",
    "    Nombre del destino: {destino}\n",
    "    \"\"\"\n",
    "\n",
    "print(informe_mision(16, 51, 'Moon', 23000, 25000 ))"
   ]
  },
  {
   "cell_type": "markdown",
   "metadata": {},
   "source": [
    "La función es problemática porque no se puede adaptar para minutos adicionales o tanques adicionales de combustible. Hazlo más flexible permitiendo cualquier número de pasos basados en el tiempo y cualquier número de tanques. En lugar de usar *args y **kwargs, aprovecha el hecho de que puedes usar cualquier nombre que desees. Asegurate que la función sea más legible mediante el uso de nombres de variables que están asociados con las entradas, como *minutes y **fuel_reservoirs:\n",
    "\n",
    "**Escribe tu nueva función de reporte considerando lo anterior**"
   ]
  },
  {
   "cell_type": "code",
   "execution_count": 22,
   "metadata": {},
   "outputs": [
    {
     "name": "stdout",
     "output_type": "stream",
     "text": [
      " Informe :\n",
      "    Nombre del destino: Moon\n",
      "    Tiempo hasta el destino: 76\n",
      "    Combustible a la izquierda: {'main': 300000, 'external': 200000}\n",
      "    \n"
     ]
    }
   ],
   "source": [
    "def informe_mision (destino, *minutes, **fuel_reservoirs):\n",
    "    return f\"\"\" Informe :\n",
    "    Nombre del destino: {destino}\n",
    "    Tiempo hasta el destino: {sum(minutes)}\n",
    "    Combustible a la izquierda: {fuel_reservoirs}\n",
    "    \"\"\"\n",
    "\n",
    "print(informe_mision(\"Moon\", 10, 15, 51, main=300000, external=200000))\n",
    "\n",
    "## *minutes: Acepta varios valores\n",
    "## *fuel_reservoirs: Acepta muchos variables"
   ]
  },
  {
   "cell_type": "markdown",
   "metadata": {},
   "source": [
    "Debido a que el combustible que queda en los tanques es específico de cada tanque, actualiza la función para usar el nombre de cada tanque en el informe:\n",
    "\n",
    "**Escribe tu nueva función**"
   ]
  },
  {
   "cell_type": "code",
   "execution_count": 23,
   "metadata": {},
   "outputs": [
    {
     "name": "stdout",
     "output_type": "stream",
     "text": [
      " Informe :\n",
      "    Nombre del destino: Moon\n",
      "    Tiempo hasta el destino: 76\n",
      "    Combustible a la izquierda: {'main': 300000, 'external': 200000}\n",
      "    main tank --> 300000 gallons left\n",
      "external tank --> 200000 gallons left\n",
      "\n"
     ]
    }
   ],
   "source": [
    "def informe_mision (destino, *minutes, **fuel_reservoirs):\n",
    "    informe = f\"\"\" Informe :\n",
    "    Nombre del destino: {destino}\n",
    "    Tiempo hasta el destino: {sum(minutes)}\n",
    "    Combustible a la izquierda: {fuel_reservoirs}\n",
    "    \"\"\"\n",
    "\n",
    "    for nombre_tanque, gallons in fuel_reservoirs.items():\n",
    "        informe += f\"{nombre_tanque} tank --> {gallons} gallons left\\n\"\n",
    "    return informe\n",
    "\n",
    "print(informe_mision(\"Moon\", 10, 15, 51, main=300000, external=200000))"
   ]
  }
 ],
 "metadata": {
  "interpreter": {
   "hash": "2be5faf79681da6f2a61fdfdd5405d65d042280f7fba6178067603e3a2925119"
  },
  "kernelspec": {
   "display_name": "Python 3.10.2 64-bit",
   "language": "python",
   "name": "python3"
  },
  "language_info": {
   "codemirror_mode": {
    "name": "ipython",
    "version": 3
   },
   "file_extension": ".py",
   "mimetype": "text/x-python",
   "name": "python",
   "nbconvert_exporter": "python",
   "pygments_lexer": "ipython3",
   "version": "3.10.2"
  },
  "orig_nbformat": 4
 },
 "nbformat": 4,
 "nbformat_minor": 2
}
